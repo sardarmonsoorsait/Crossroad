{
  "nbformat": 4,
  "nbformat_minor": 0,
  "metadata": {
    "colab": {
      "name": "face_app.ipynb",
      "provenance": [],
      "mount_file_id": "1-nK92qQpe5wXATu-XJjsJlDjCtROlQTX",
      "authorship_tag": "ABX9TyNzN2/KG35agPxJT+3+UgcE",
      "include_colab_link": true
    },
    "kernelspec": {
      "display_name": "Python 3",
      "name": "python3"
    }
  },
  "cells": [
    {
      "cell_type": "markdown",
      "metadata": {
        "id": "view-in-github",
        "colab_type": "text"
      },
      "source": [
        "<a href=\"https://colab.research.google.com/github/sardarmonsoorsait/Crossroad/blob/master/face_app.ipynb\" target=\"_parent\"><img src=\"https://colab.research.google.com/assets/colab-badge.svg\" alt=\"Open In Colab\"/></a>"
      ]
    },
    {
      "cell_type": "code",
      "metadata": {
        "colab": {
          "base_uri": "https://localhost:8080/"
        },
        "id": "qPHm1qjC813z",
        "outputId": "a86e8379-d2cd-4bc0-c5b8-615907659dd3"
      },
      "source": [
        "!pip install flask-ngrok"
      ],
      "execution_count": 2,
      "outputs": [
        {
          "output_type": "stream",
          "text": [
            "Collecting flask-ngrok\n",
            "  Downloading https://files.pythonhosted.org/packages/af/6c/f54cb686ad1129e27d125d182f90f52b32f284e6c8df58c1bae54fa1adbc/flask_ngrok-0.0.25-py3-none-any.whl\n",
            "Requirement already satisfied: Flask>=0.8 in /usr/local/lib/python3.6/dist-packages (from flask-ngrok) (1.1.2)\n",
            "Requirement already satisfied: requests in /usr/local/lib/python3.6/dist-packages (from flask-ngrok) (2.23.0)\n",
            "Requirement already satisfied: Jinja2>=2.10.1 in /usr/local/lib/python3.6/dist-packages (from Flask>=0.8->flask-ngrok) (2.11.2)\n",
            "Requirement already satisfied: click>=5.1 in /usr/local/lib/python3.6/dist-packages (from Flask>=0.8->flask-ngrok) (7.1.2)\n",
            "Requirement already satisfied: Werkzeug>=0.15 in /usr/local/lib/python3.6/dist-packages (from Flask>=0.8->flask-ngrok) (1.0.1)\n",
            "Requirement already satisfied: itsdangerous>=0.24 in /usr/local/lib/python3.6/dist-packages (from Flask>=0.8->flask-ngrok) (1.1.0)\n",
            "Requirement already satisfied: chardet<4,>=3.0.2 in /usr/local/lib/python3.6/dist-packages (from requests->flask-ngrok) (3.0.4)\n",
            "Requirement already satisfied: urllib3!=1.25.0,!=1.25.1,<1.26,>=1.21.1 in /usr/local/lib/python3.6/dist-packages (from requests->flask-ngrok) (1.24.3)\n",
            "Requirement already satisfied: certifi>=2017.4.17 in /usr/local/lib/python3.6/dist-packages (from requests->flask-ngrok) (2020.12.5)\n",
            "Requirement already satisfied: idna<3,>=2.5 in /usr/local/lib/python3.6/dist-packages (from requests->flask-ngrok) (2.10)\n",
            "Requirement already satisfied: MarkupSafe>=0.23 in /usr/local/lib/python3.6/dist-packages (from Jinja2>=2.10.1->Flask>=0.8->flask-ngrok) (1.1.1)\n",
            "Installing collected packages: flask-ngrok\n",
            "Successfully installed flask-ngrok-0.0.25\n"
          ],
          "name": "stdout"
        }
      ]
    },
    {
      "cell_type": "code",
      "metadata": {
        "colab": {
          "base_uri": "https://localhost:8080/"
        },
        "id": "PBzuAUxh2_yj",
        "outputId": "66614f98-9a82-42ed-a5b2-3e635f5cb010"
      },
      "source": [
        "cd /content/drive/My Drive/face_fun_project/"
      ],
      "execution_count": 15,
      "outputs": [
        {
          "output_type": "stream",
          "text": [
            "/content/drive/My Drive/face_fun_project\n"
          ],
          "name": "stdout"
        }
      ]
    },
    {
      "cell_type": "code",
      "metadata": {
        "id": "lNiZmwEW7zRa"
      },
      "source": [
        "from flask import Flask, render_template, request\n",
        "from flask_ngrok import run_with_ngrok\n",
        "import numpy as np\n",
        "import os\n",
        "import keras\n",
        "from keras.preprocessing.image import load_img\n",
        "from keras.preprocessing.image import img_to_array\n",
        "from keras.models import load_model\n",
        "import cv2\n",
        "\n"
      ],
      "execution_count": 16,
      "outputs": []
    },
    {
      "cell_type": "code",
      "metadata": {
        "id": "Y7nG4JM89Khj"
      },
      "source": [
        "#load model\n",
        "model =load_model(\"model/simple_face_fun_model.h5\")"
      ],
      "execution_count": 8,
      "outputs": []
    },
    {
      "cell_type": "code",
      "metadata": {
        "id": "ruMZbaNL9k_Y"
      },
      "source": [
        "def pred_face(face):    \n",
        "    font = cv2.FONT_HERSHEY_SIMPLEX\n",
        "    fontscale=.5\n",
        "    color=[0,0,255]\n",
        "    face_cascade = cv2.CascadeClassifier('/content/drive/MyDrive/face_fun_project/model/haarcascade_frontalface_default.xml')\n",
        "    org=(1,1)\n",
        "    color_img = cv2.imread(face)\n",
        "    grey_img = cv2.cvtColor(color_img,cv2.COLOR_BGR2GRAY)\n",
        "    faces =  face_cascade.detectMultiScale(grey_img,1.1,12)\n",
        "    img_count = 0\n",
        "    for (x,y,w,h) in faces:\n",
        "      img_count+=1\n",
        "      org=(x+10,y+10)\n",
        "      face_img = color_img[y:y+h,x:x+w]\n",
        "      cv2.imwrite('static/user uploaded/%dimg.jpg'%(img_count),face_img)\n",
        "      img = load_img('static/user uploaded/%dimg.jpg'%(img_count),target_size=(227,227))\n",
        "      img= img_to_array(img)/255\n",
        "      img=np.expand_dims(img,axis=0)\n",
        "      pred_prob = model.predict(img).round(3)\n",
        "      pred = np.argmax(pred_prob)\n",
        "      print(pred_prob)\n",
        "      if pred ==0:\n",
        "        cv2.rectangle(color_img,(x,y),(x+w,y+h),[255,0,0],1)\n",
        "        cv2.putText(color_img,\"ajith\"+\"(\"+str(pred_prob[0][0])+\")\",org,font,fontscale,color,1)\n",
        "        return \"You are like Ultimate star...\"+\"(\"+str(pred_prob[0][0])+\")\", 'ajith.html'       \n",
        "      elif pred ==1:\n",
        "          cv2.rectangle(color_img,(x,y),(x+w,y+h),[255,0,0],1)        \n",
        "          return \"you are like Ulaga nayagan\"+\"(\"+str(pred_prob[0][1])+\")\", 'kamal.html'      \n",
        "      elif pred ==2:\n",
        "          cv2.rectangle(color_img,(x,y),(x+w,y+h),[255,0,0],1)        \n",
        "          return \"you are like superstar \"+\"(\"+str(pred_prob[0][2])+\")\", 'rajini.html'          \n",
        "      else:\n",
        "        cv2.rectangle(color_img,(x,y),(x+w,y+h),[255,0,0],1)        \n",
        "        return \"you are like ilayathalapathi\"+\"(\"+str(pred_prob[0][3])+\")\", 'vijay.html'"
      ],
      "execution_count": 9,
      "outputs": []
    },
    {
      "cell_type": "code",
      "metadata": {
        "colab": {
          "base_uri": "https://localhost:8080/"
        },
        "id": "QoPS7r7l-eWJ",
        "outputId": "8ebfdc87-e72f-4a40-9f7c-3eb014724c9e"
      },
      "source": [
        "# Create flask instance\n",
        "app = Flask(__name__)\n",
        "run_with_ngrok(app)\n",
        "# render index.html page\n",
        "@app.route(\"/\", methods=['GET', 'POST'])\n",
        "def home():\n",
        "        return render_template('index.html')\n",
        "    \n",
        " \n",
        "# get input image from client then predict class and render respective .html page for solution\n",
        "@app.route(\"/predict\", methods = ['GET','POST'])\n",
        "def predict():\n",
        "     if request.method == 'POST':\n",
        "        file = request.files['image'] # fet input\n",
        "        filename = file.filename        \n",
        "        print(\"@@ Input posted = \", filename)\n",
        "        \n",
        "        file_path = os.path.join('static/user uploaded', filename)\n",
        "        file.save(file_path)\n",
        " \n",
        "        print(\"@@ Predicting class......\")\n",
        "        pred, output_page = pred_face(face=file_path)\n",
        "              \n",
        "        return render_template(output_page, pred_output = pred, user_image = file_path)\n",
        "    \n",
        "# For local system & cloud\n",
        "if __name__ == \"__main__\":\n",
        "    app.run()"
      ],
      "execution_count": 10,
      "outputs": [
        {
          "output_type": "stream",
          "text": [
            " * Serving Flask app \"__main__\" (lazy loading)\n",
            " * Environment: production\n",
            "\u001b[31m   WARNING: This is a development server. Do not use it in a production deployment.\u001b[0m\n",
            "\u001b[2m   Use a production WSGI server instead.\u001b[0m\n",
            " * Debug mode: off\n"
          ],
          "name": "stdout"
        },
        {
          "output_type": "stream",
          "text": [
            " * Running on http://127.0.0.1:5000/ (Press CTRL+C to quit)\n"
          ],
          "name": "stderr"
        },
        {
          "output_type": "stream",
          "text": [
            " * Running on http://821c9048dd93.ngrok.io\n",
            " * Traffic stats available on http://127.0.0.1:4040\n"
          ],
          "name": "stdout"
        },
        {
          "output_type": "stream",
          "text": [
            "127.0.0.1 - - [06/Jan/2021 17:50:57] \"\u001b[37mGET / HTTP/1.1\u001b[0m\" 200 -\n",
            "127.0.0.1 - - [06/Jan/2021 17:50:58] \"\u001b[37mGET /static/images/image3.jpeg HTTP/1.1\u001b[0m\" 200 -\n",
            "127.0.0.1 - - [06/Jan/2021 17:50:58] \"\u001b[37mGET /static/images/Gallery2.jpg HTTP/1.1\u001b[0m\" 200 -\n",
            "127.0.0.1 - - [06/Jan/2021 17:50:58] \"\u001b[37mGET /static/images/Gallery3.jpg HTTP/1.1\u001b[0m\" 200 -\n",
            "127.0.0.1 - - [06/Jan/2021 17:50:58] \"\u001b[37mGET /static/images/AJVJ.jpg HTTP/1.1\u001b[0m\" 200 -\n",
            "127.0.0.1 - - [06/Jan/2021 17:50:58] \"\u001b[37mGET /static/images/Gallery1.jpg HTTP/1.1\u001b[0m\" 200 -\n",
            "127.0.0.1 - - [06/Jan/2021 17:50:58] \"\u001b[37mGET /static/images/image.jpg HTTP/1.1\u001b[0m\" 200 -\n",
            "127.0.0.1 - - [06/Jan/2021 17:50:58] \"\u001b[37mGET /static/images/Gallery4.jpg HTTP/1.1\u001b[0m\" 200 -\n",
            "127.0.0.1 - - [06/Jan/2021 17:50:58] \"\u001b[37mGET /static/images/Gallery5.png HTTP/1.1\u001b[0m\" 200 -\n",
            "127.0.0.1 - - [06/Jan/2021 17:50:59] \"\u001b[37mGET /static/images/Gallery6.jpg HTTP/1.1\u001b[0m\" 200 -\n",
            "127.0.0.1 - - [06/Jan/2021 17:51:03] \"\u001b[33mGET /favicon.ico HTTP/1.1\u001b[0m\" 404 -\n"
          ],
          "name": "stderr"
        },
        {
          "output_type": "stream",
          "text": [
            "@@ Input posted =  1img.jpg\n",
            "@@ Predicting class......\n",
            "[[0.014 0.458 0.275 0.254]]\n"
          ],
          "name": "stdout"
        },
        {
          "output_type": "stream",
          "text": [
            "127.0.0.1 - - [06/Jan/2021 17:51:28] \"\u001b[37mPOST /predict HTTP/1.1\u001b[0m\" 200 -\n",
            "127.0.0.1 - - [06/Jan/2021 17:51:29] \"\u001b[37mGET /static/user%20uploaded/1img.jpg HTTP/1.1\u001b[0m\" 200 -\n",
            "127.0.0.1 - - [06/Jan/2021 17:51:29] \"\u001b[37mGET /static/images/asaiTech.png HTTP/1.1\u001b[0m\" 200 -\n"
          ],
          "name": "stderr"
        }
      ]
    },
    {
      "cell_type": "code",
      "metadata": {
        "id": "8b8N5MSWEXh6"
      },
      "source": [
        "/content/sample_data"
      ],
      "execution_count": null,
      "outputs": []
    }
  ]
}